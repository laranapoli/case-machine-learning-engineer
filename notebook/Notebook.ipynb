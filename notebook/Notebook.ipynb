{
 "cells": [
  {
   "cell_type": "code",
   "execution_count": null,
   "metadata": {
    "id": "vujJhQoc9uaQ"
   },
   "outputs": [],
   "source": [
    "# !pip install pyspark==3.3.1"
   ]
  },
  {
   "cell_type": "code",
   "execution_count": null,
   "metadata": {
    "id": "NnciAFz89w__"
   },
   "outputs": [],
   "source": [
    "from pyspark.sql import SparkSession\n",
    "from pyspark.sql.functions import avg, concat, lit, date_format, when, count, col\n",
    "from pyspark.sql import functions as F"
   ]
  },
  {
   "cell_type": "code",
   "execution_count": null,
   "metadata": {
    "id": "21AKKXNQBEBp"
   },
   "outputs": [],
   "source": [
    "# Inicializa a sessão Spark\n",
    "spark = SparkSession.builder \\\n",
    "    .appName(\"Colab Spark\") \\\n",
    "    .getOrCreate()"
   ]
  },
  {
   "cell_type": "code",
   "execution_count": null,
   "metadata": {
    "id": "4dkKv4Vm-VRd"
   },
   "outputs": [],
   "source": [
    "file_path = 'airports-database.csv'\n",
    "\n",
    "df = spark.read.csv(file_path, header=True, inferSchema=True)"
   ]
  },
  {
   "cell_type": "code",
   "execution_count": null,
   "metadata": {
    "colab": {
     "base_uri": "https://localhost:8080/"
    },
    "id": "PJCW87Tt-fJe",
    "outputId": "b5a774ba-c011-4896-cadc-649e9868d4b7"
   },
   "outputs": [
    {
     "name": "stdout",
     "output_type": "stream",
     "text": [
      "+---+----+-----+---+--------+--------------+---------+--------+--------------+---------+-------+------+-------+------+----+--------+--------+----+------+-------------------+--------------------+\n",
      "| id|year|month|day|dep_time|sched_dep_time|dep_delay|arr_time|sched_arr_time|arr_delay|carrier|flight|tailnum|origin|dest|air_time|distance|hour|minute|          time_hour|                name|\n",
      "+---+----+-----+---+--------+--------------+---------+--------+--------------+---------+-------+------+-------+------+----+--------+--------+----+------+-------------------+--------------------+\n",
      "|  0|2013|    1|  1|   517.0|           515|      2.0|   830.0|           819|     11.0|     UA|  1545| N14228|   EWR| IAH|   227.0|    1400|   5|    15|2013-01-01 05:00:00|United Air Lines ...|\n",
      "|  1|2013|    1|  1|   533.0|           529|      4.0|   850.0|           830|     20.0|     UA|  1714| N24211|   LGA| IAH|   227.0|    1416|   5|    29|2013-01-01 05:00:00|United Air Lines ...|\n",
      "|  2|2013|    1|  1|   542.0|           540|      2.0|   923.0|           850|     33.0|     AA|  1141| N619AA|   JFK| MIA|   160.0|    1089|   5|    40|2013-01-01 05:00:00|American Airlines...|\n",
      "|  3|2013|    1|  1|   544.0|           545|     -1.0|  1004.0|          1022|    -18.0|     B6|   725| N804JB|   JFK| BQN|   183.0|    1576|   5|    45|2013-01-01 05:00:00|     JetBlue Airways|\n",
      "|  4|2013|    1|  1|   554.0|           600|     -6.0|   812.0|           837|    -25.0|     DL|   461| N668DN|   LGA| ATL|   116.0|     762|   6|     0|2013-01-01 06:00:00|Delta Air Lines Inc.|\n",
      "+---+----+-----+---+--------+--------------+---------+--------+--------------+---------+-------+------+-------+------+----+--------+--------+----+------+-------------------+--------------------+\n",
      "only showing top 5 rows\n",
      "\n"
     ]
    }
   ],
   "source": [
    "df.show(5)"
   ]
  },
  {
   "cell_type": "markdown",
   "metadata": {
    "id": "F2mOvFc8_BvU"
   },
   "source": [
    "# Perguntas"
   ]
  },
  {
   "cell_type": "markdown",
   "metadata": {
    "id": "cOPtEwB9_IlR"
   },
   "source": [
    "## 1. Qual é o número total de voos no conjunto de dados?"
   ]
  },
  {
   "cell_type": "code",
   "execution_count": null,
   "metadata": {
    "colab": {
     "base_uri": "https://localhost:8080/"
    },
    "id": "9Ole06U__Mz2",
    "outputId": "a9724d74-7689-4318-d449-cf18b2b64ddc"
   },
   "outputs": [
    {
     "name": "stdout",
     "output_type": "stream",
     "text": [
      "+---+-----+\n",
      "| id|count|\n",
      "+---+-----+\n",
      "+---+-----+\n",
      "\n"
     ]
    }
   ],
   "source": [
    "ids_duplicados = df.groupBy('id').count().filter('count > 1')\n",
    "ids_duplicados.show()"
   ]
  },
  {
   "cell_type": "code",
   "execution_count": null,
   "metadata": {
    "colab": {
     "base_uri": "https://localhost:8080/"
    },
    "id": "tELHK5UC_jy0",
    "outputId": "539461a2-5c97-46b1-e83d-16adb3f62e07"
   },
   "outputs": [
    {
     "name": "stdout",
     "output_type": "stream",
     "text": [
      "Reposta: 336776 é o número total de voos no dataset\n"
     ]
    }
   ],
   "source": [
    "qtd_voos = df.select('id').count()\n",
    "print(f'Reposta: {qtd_voos} é o número total de voos no dataset')"
   ]
  },
  {
   "cell_type": "markdown",
   "metadata": {
    "id": "onghJedAABJX"
   },
   "source": [
    "## 2. Quantos voos foram cancelados?"
   ]
  },
  {
   "cell_type": "code",
   "execution_count": null,
   "metadata": {
    "colab": {
     "base_uri": "https://localhost:8080/"
    },
    "id": "5MLrw6MX_1RI",
    "outputId": "e055a8c3-24c1-4352-b374-78b506885a25"
   },
   "outputs": [
    {
     "name": "stdout",
     "output_type": "stream",
     "text": [
      "Resposta: 8255 é a quantidade de voos cancelados\n"
     ]
    }
   ],
   "source": [
    "qtd_cancelados = df.filter(\n",
    "    df['dep_time'].isNull()\n",
    "    & df['arr_time'].isNull()\n",
    ").count()\n",
    "print(f'Resposta: {qtd_cancelados} é a quantidade de voos cancelados')"
   ]
  },
  {
   "cell_type": "markdown",
   "metadata": {
    "id": "bVT2LGfEApY6"
   },
   "source": [
    "## 3. Qual é o atraso médio na partida dos voos (dep_delay)?"
   ]
  },
  {
   "cell_type": "code",
   "execution_count": null,
   "metadata": {
    "colab": {
     "base_uri": "https://localhost:8080/"
    },
    "id": "u8uY2_DvAmXt",
    "outputId": "98330c70-8f0b-422c-92e3-be0b77aaa63a"
   },
   "outputs": [
    {
     "name": "stdout",
     "output_type": "stream",
     "text": [
      "Resposta: 12.64 é o atraso médio na partida dos voos\n"
     ]
    }
   ],
   "source": [
    "avg_atraso_partida = round(df.agg(avg('dep_delay')).collect()[0][0], 2)\n",
    "print(f'Resposta: {avg_atraso_partida} é o atraso médio na partida dos voos')"
   ]
  },
  {
   "cell_type": "markdown",
   "metadata": {
    "id": "bRfwuPv7BlEP"
   },
   "source": [
    "## 4. Quais são os 5 aeroportos com maior número de pousos?"
   ]
  },
  {
   "cell_type": "code",
   "execution_count": null,
   "metadata": {
    "colab": {
     "base_uri": "https://localhost:8080/"
    },
    "id": "37758J4-BMdD",
    "outputId": "64de7cf8-92f5-431a-bd8b-def7ec7ef445"
   },
   "outputs": [
    {
     "name": "stdout",
     "output_type": "stream",
     "text": [
      "+----+-----+\n",
      "|dest|count|\n",
      "+----+-----+\n",
      "| ORD|17283|\n",
      "| ATL|17215|\n",
      "| LAX|16174|\n",
      "| BOS|15508|\n",
      "| MCO|14082|\n",
      "+----+-----+\n",
      "only showing top 5 rows\n",
      "\n"
     ]
    }
   ],
   "source": [
    "df_aeros_dest = df.groupBy('dest').count()\n",
    "df_aeros_dest.orderBy('count', ascending=False).show(5)"
   ]
  },
  {
   "cell_type": "markdown",
   "metadata": {
    "id": "zPifXfE9CpSj"
   },
   "source": [
    "## 5. Qual é a rota mais frequente (par origin-dest)?"
   ]
  },
  {
   "cell_type": "code",
   "execution_count": null,
   "metadata": {
    "id": "3Xs3_dRjBsxo"
   },
   "outputs": [],
   "source": [
    "df = df.withColumn(\n",
    "    'rota', concat(df['origin'], lit('-'), df['dest'])\n",
    ")"
   ]
  },
  {
   "cell_type": "code",
   "execution_count": null,
   "metadata": {
    "colab": {
     "base_uri": "https://localhost:8080/"
    },
    "id": "mOobTjctDAU3",
    "outputId": "a4c356d3-05e8-4a5e-9eeb-d35d217d4700"
   },
   "outputs": [
    {
     "name": "stdout",
     "output_type": "stream",
     "text": [
      "+-------+-----+\n",
      "|   rota|count|\n",
      "+-------+-----+\n",
      "|JFK-LAX|11262|\n",
      "+-------+-----+\n",
      "only showing top 1 row\n",
      "\n"
     ]
    }
   ],
   "source": [
    "df_rotas_freq = df.groupBy('rota').count()\n",
    "df_rotas_freq.orderBy('count', ascending=False).show(1)"
   ]
  },
  {
   "cell_type": "markdown",
   "metadata": {
    "id": "UTmD45lfDky-"
   },
   "source": [
    "## 6. Quais são as 5 companhias aéreas com maior tempo médio de atraso na chegada?"
   ]
  },
  {
   "cell_type": "code",
   "execution_count": null,
   "metadata": {
    "colab": {
     "base_uri": "https://localhost:8080/"
    },
    "id": "dT0PTTfHDBFh",
    "outputId": "016a1468-e3f0-431a-8521-c48f7dca2859"
   },
   "outputs": [
    {
     "name": "stdout",
     "output_type": "stream",
     "text": [
      "+-------+------------------+\n",
      "|carrier|     avg_arr_delay|\n",
      "+-------+------------------+\n",
      "|     F9|21.920704845814978|\n",
      "|     FL|20.115905511811025|\n",
      "|     EV| 15.79643108710965|\n",
      "|     YV|15.556985294117647|\n",
      "|     OO|11.931034482758621|\n",
      "+-------+------------------+\n",
      "only showing top 5 rows\n",
      "\n"
     ]
    }
   ],
   "source": [
    "df_avg_arr_delay = df.groupBy('carrier').agg(\n",
    "    avg('arr_delay').alias('avg_arr_delay')\n",
    ")\n",
    "df_avg_arr_delay.orderBy('avg_arr_delay', ascending=False).show(5)"
   ]
  },
  {
   "cell_type": "markdown",
   "metadata": {
    "id": "3TA-6qUEEdMj"
   },
   "source": [
    "## 7. Qual é o dia da semana com maior número de voos?"
   ]
  },
  {
   "cell_type": "code",
   "execution_count": null,
   "metadata": {
    "id": "p3fNGmeDERbQ"
   },
   "outputs": [],
   "source": [
    "df = df.withColumn(\n",
    "    'dia_da_semana', date_format('time_hour', 'EEEE')\n",
    ")\n",
    "\n",
    "df = df.withColumn(\n",
    "    'dia_da_semana_ptbr',\n",
    "    when(df['dia_da_semana'] == 'Monday', 'Segunda-feira')\n",
    "    .when(df['dia_da_semana'] == 'Tuesday', 'Terça-feira')\n",
    "    .when(df['dia_da_semana'] == 'Wednesday', 'Quarta-feira')\n",
    "    .when(df['dia_da_semana'] == 'Thursday', 'Quinta-feira')\n",
    "    .when(df['dia_da_semana'] == 'Friday', 'Sexta-feira')\n",
    "    .when(df['dia_da_semana'] == 'Saturday', 'Sábado')\n",
    "    .when(df['dia_da_semana'] == 'Sunday', 'Domingo')\n",
    ")"
   ]
  },
  {
   "cell_type": "code",
   "execution_count": null,
   "metadata": {
    "colab": {
     "base_uri": "https://localhost:8080/"
    },
    "id": "3LMHvF0EFEoJ",
    "outputId": "822f119b-5b69-4e85-cb30-718d20c6310a"
   },
   "outputs": [
    {
     "name": "stdout",
     "output_type": "stream",
     "text": [
      "+------------------+-----+\n",
      "|dia_da_semana_ptbr|count|\n",
      "+------------------+-----+\n",
      "|     Segunda-feira|50690|\n",
      "+------------------+-----+\n",
      "only showing top 1 row\n",
      "\n"
     ]
    }
   ],
   "source": [
    "df_dia_semana = df.groupBy('dia_da_semana_ptbr').count()\n",
    "df_dia_semana.orderBy('count', ascending=False).show(1)"
   ]
  },
  {
   "cell_type": "markdown",
   "metadata": {
    "id": "QTSRYImkGmOz"
   },
   "source": [
    "## 8. Qual o percentual mensal dos voos tiveram atraso na partida superior a 30 minutos?"
   ]
  },
  {
   "cell_type": "code",
   "execution_count": null,
   "metadata": {
    "colab": {
     "base_uri": "https://localhost:8080/"
    },
    "id": "iV9SLV9rFgR-",
    "outputId": "8e6788b5-c2c2-4aaa-9017-b89e27bb6626"
   },
   "outputs": [
    {
     "name": "stdout",
     "output_type": "stream",
     "text": [
      "+-----+---------------+----------------+---------------------------+\n",
      "|month|total_registros|atrasos_maior_30|percentual_atrasos_maior_30|\n",
      "+-----+---------------+----------------+---------------------------+\n",
      "|    1|          27004|            3350|         12.405569545252556|\n",
      "|    2|          24951|            3182|         12.752995871908942|\n",
      "|    3|          28834|            4309|         14.944163140736629|\n",
      "|    4|          28330|            4531|         15.993646311330744|\n",
      "|    5|          28796|            4416|         15.335463258785943|\n",
      "|    6|          28243|            5717|          20.24218390397621|\n",
      "|    7|          29425|            6173|          20.97875955819881|\n",
      "|    8|          29327|            4238|         14.450847342039758|\n",
      "|    9|          27574|            2419|           8.77275694494814|\n",
      "|   10|          28889|            2697|          9.335733324102598|\n",
      "|   11|          27268|            2388|          8.757517969781428|\n",
      "|   12|          28135|            4871|         17.312955393637818|\n",
      "+-----+---------------+----------------+---------------------------+\n",
      "\n"
     ]
    }
   ],
   "source": [
    "df = df.withColumn(\n",
    "    'dep_delay_sup_30',\n",
    "    when(df['dep_delay'] > 30, 1).otherwise(0)\n",
    ")\n",
    "\n",
    "df_pct_mensal = df.groupBy('month').agg(\n",
    "    count('*').alias('total_registros'),\n",
    "    F.sum('dep_delay_sup_30').alias('atrasos_maior_30')\n",
    ")\n",
    "\n",
    "df_pct_mensal = df_pct_mensal.withColumn(\n",
    "    'percentual_atrasos_maior_30',\n",
    "    (col('atrasos_maior_30') / col('total_registros'))*100\n",
    ")\n",
    "\n",
    "df_pct_mensal.orderBy('month').show()"
   ]
  },
  {
   "cell_type": "markdown",
   "metadata": {
    "id": "L9jIVCkcI4SK"
   },
   "source": [
    "## 9. Qual a origem mais comum para voos que pousaram em Seattle (SEA)?"
   ]
  },
  {
   "cell_type": "code",
   "execution_count": null,
   "metadata": {
    "colab": {
     "base_uri": "https://localhost:8080/"
    },
    "id": "q9D-C2RxIPoX",
    "outputId": "050a1606-d87d-45c6-ce11-6c80a00500fd"
   },
   "outputs": [
    {
     "name": "stdout",
     "output_type": "stream",
     "text": [
      "+------+-----+\n",
      "|origin|count|\n",
      "+------+-----+\n",
      "|   JFK| 2092|\n",
      "+------+-----+\n",
      "only showing top 1 row\n",
      "\n"
     ]
    }
   ],
   "source": [
    "df_dest_sea = df.filter(col('dest') == 'SEA')\n",
    "df_agrup_origens = df_dest_sea.groupBy('origin').count()\n",
    "df_agrup_origens.orderBy('count', ascending=False).show(1)"
   ]
  },
  {
   "cell_type": "markdown",
   "metadata": {
    "id": "52O07ilRJnnp"
   },
   "source": [
    "## 10. Qual é a média de atraso na partida dos voos (dep_delay) para cada dia da semana?"
   ]
  },
  {
   "cell_type": "code",
   "execution_count": null,
   "metadata": {
    "colab": {
     "base_uri": "https://localhost:8080/"
    },
    "id": "6VkAzBUPKFkh",
    "outputId": "244ccb7f-7817-432a-ee9f-aade8ead8227"
   },
   "outputs": [
    {
     "name": "stdout",
     "output_type": "stream",
     "text": [
      "+------------------+------------------+\n",
      "|dia_da_semana_ptbr|     avg_dep_delay|\n",
      "+------------------+------------------+\n",
      "|      Quinta-feira|16.148919990957108|\n",
      "|     Segunda-feira|14.778936729330908|\n",
      "|       Sexta-feira| 14.69605749486653|\n",
      "|      Quarta-feira|11.803512219083876|\n",
      "|           Domingo|11.589531801152422|\n",
      "|       Terça-feira|10.631682565455652|\n",
      "|            Sábado| 7.650502333676133|\n",
      "+------------------+------------------+\n",
      "\n"
     ]
    }
   ],
   "source": [
    "df_avg_wkd_delay = df.groupBy('dia_da_semana_ptbr').agg(\n",
    "    avg('dep_delay').alias('avg_dep_delay')\n",
    ")\n",
    "df_avg_wkd_delay.orderBy('avg_dep_delay', ascending=False).show()"
   ]
  },
  {
   "cell_type": "markdown",
   "metadata": {
    "id": "Ri0IGOFDKkOp"
   },
   "source": [
    "## 11. Qual é a rota que teve o maior tempo de voo médio (air_time)?"
   ]
  },
  {
   "cell_type": "code",
   "execution_count": null,
   "metadata": {
    "colab": {
     "base_uri": "https://localhost:8080/"
    },
    "id": "9ULHJR-HKa1A",
    "outputId": "e6fa0c32-d983-464d-c3f4-c88d3e995af9"
   },
   "outputs": [
    {
     "name": "stdout",
     "output_type": "stream",
     "text": [
      "+-------+-----------------+\n",
      "|   rota|     avg_air_time|\n",
      "+-------+-----------------+\n",
      "|JFK-HNL|623.0877192982456|\n",
      "+-------+-----------------+\n",
      "only showing top 1 row\n",
      "\n"
     ]
    }
   ],
   "source": [
    "df_avg_rota_airtime = df.groupBy('rota').agg(\n",
    "    avg('air_time').alias('avg_air_time')\n",
    ")\n",
    "df_avg_rota_airtime.orderBy('avg_air_time', ascending=False).show(1)"
   ]
  },
  {
   "cell_type": "markdown",
   "metadata": {
    "id": "p2dTrV9CK863"
   },
   "source": [
    "## 12. Para cada aeroporto de origem, qual é o aeroporto de destino mais comum?"
   ]
  },
  {
   "cell_type": "code",
   "execution_count": null,
   "metadata": {
    "id": "XKmFIbIaBxH2"
   },
   "outputs": [],
   "source": [
    "from pyspark.sql.window import Window"
   ]
  },
  {
   "cell_type": "code",
   "execution_count": null,
   "metadata": {
    "colab": {
     "base_uri": "https://localhost:8080/"
    },
    "id": "ze6Fvr6BK42u",
    "outputId": "20ad6510-f12c-4c95-d6a2-b6164238e307"
   },
   "outputs": [
    {
     "name": "stdout",
     "output_type": "stream",
     "text": [
      "+------+----+--------+\n",
      "|origin|dest|qtd_voos|\n",
      "+------+----+--------+\n",
      "|   EWR| ORD|    6100|\n",
      "|   JFK| LAX|   11262|\n",
      "|   LGA| ATL|   10263|\n",
      "+------+----+--------+\n",
      "\n"
     ]
    }
   ],
   "source": [
    "(\n",
    "    df.groupBy('origin', 'dest')\n",
    "    .agg(count('*').alias('qtd_voos'))\n",
    "    .withColumn(\n",
    "        'max_qtd_voos',\n",
    "        F.max('qtd_voos').over(Window.partitionBy('origin'))\n",
    "    )\n",
    "    .filter(col('qtd_voos') == col('max_qtd_voos'))\n",
    "    .select('origin', 'dest', 'qtd_voos')\n",
    ").show()"
   ]
  },
  {
   "cell_type": "markdown",
   "metadata": {
    "id": "3nk53fbaCZ1G"
   },
   "source": [
    "## 13. Quais são as 3 rotas que tiveram a maior variação no tempo médio de voo (air_time) ?"
   ]
  },
  {
   "cell_type": "code",
   "execution_count": null,
   "metadata": {
    "colab": {
     "base_uri": "https://localhost:8080/"
    },
    "id": "rW3cmVBeA7OK",
    "outputId": "5a0440e8-65a9-4d5d-ee05-adcd4138aea7"
   },
   "outputs": [
    {
     "name": "stdout",
     "output_type": "stream",
     "text": [
      "+-------+------------------+\n",
      "|   rota|      std_air_time|\n",
      "+-------+------------------+\n",
      "|LGA-MYR| 25.32455988429677|\n",
      "|EWR-HNL| 21.26613546847427|\n",
      "|JFK-HNL|20.688824842787056|\n",
      "+-------+------------------+\n",
      "only showing top 3 rows\n",
      "\n"
     ]
    }
   ],
   "source": [
    "(\n",
    "    df.groupBy('rota').agg(\n",
    "        F.stddev('air_time').alias('std_air_time')\n",
    "    )\n",
    ").orderBy('std_air_time', ascending=False).show(3)"
   ]
  },
  {
   "cell_type": "markdown",
   "metadata": {
    "id": "gMzAPXOnDFe2"
   },
   "source": [
    "## 14. Qual é a média de atraso na chegada para voos que tiveram atraso na partida superior a 1 hora?"
   ]
  },
  {
   "cell_type": "code",
   "execution_count": null,
   "metadata": {
    "colab": {
     "base_uri": "https://localhost:8080/"
    },
    "id": "KL0-r-1pC4X_",
    "outputId": "3cb00274-b167-4ef4-cfa3-b44e4b17b2e1"
   },
   "outputs": [
    {
     "name": "stdout",
     "output_type": "stream",
     "text": [
      "+------------------+\n",
      "|     avg_arr_delay|\n",
      "+------------------+\n",
      "|119.04880549963919|\n",
      "+------------------+\n",
      "\n"
     ]
    }
   ],
   "source": [
    "(\n",
    "    df.filter(\n",
    "        col('dep_delay') > 60\n",
    "    ).agg(\n",
    "        avg('arr_delay').alias('avg_arr_delay')\n",
    "    )\n",
    ").show()"
   ]
  },
  {
   "cell_type": "markdown",
   "metadata": {
    "id": "yJbMXK3qDlEX"
   },
   "source": [
    "## 15. Qual é a média de voos diários para cada mês do ano?"
   ]
  },
  {
   "cell_type": "code",
   "execution_count": null,
   "metadata": {
    "colab": {
     "base_uri": "https://localhost:8080/"
    },
    "id": "lV8-UBqcDjJG",
    "outputId": "1234121f-5ab9-4ebb-8302-a549cb5d27d1"
   },
   "outputs": [
    {
     "name": "stdout",
     "output_type": "stream",
     "text": [
      "+-----+-----------------+\n",
      "|month| avg_voos_diarios|\n",
      "+-----+-----------------+\n",
      "|    1|871.0967741935484|\n",
      "|    2|891.1071428571429|\n",
      "|    3|930.1290322580645|\n",
      "|    4|944.3333333333334|\n",
      "|    5|928.9032258064516|\n",
      "|    6|941.4333333333333|\n",
      "|    7|949.1935483870968|\n",
      "|    8|946.0322580645161|\n",
      "|    9|919.1333333333333|\n",
      "|   10|931.9032258064516|\n",
      "|   11|908.9333333333333|\n",
      "|   12|907.5806451612904|\n",
      "+-----+-----------------+\n",
      "\n"
     ]
    }
   ],
   "source": [
    "(\n",
    "    df.groupBy('month', 'day').agg(\n",
    "        count('*').alias('qtd_voos_diarios')\n",
    "    )\n",
    "    .groupBy('month')\n",
    "    .agg(avg('qtd_voos_diarios').alias('avg_voos_diarios'))\n",
    "    .orderBy('month')\n",
    ").show()"
   ]
  },
  {
   "cell_type": "markdown",
   "metadata": {
    "id": "VvT6qjNtE2if"
   },
   "source": [
    "## 16. Quais são as 3 rotas mais comuns que tiveram atrasos na chegada superiores a 30 minutos?"
   ]
  },
  {
   "cell_type": "code",
   "execution_count": null,
   "metadata": {
    "colab": {
     "base_uri": "https://localhost:8080/"
    },
    "id": "NWly2zVLEPY2",
    "outputId": "738cd436-e5a3-4287-b458-5ad9bd0c4d16"
   },
   "outputs": [
    {
     "name": "stdout",
     "output_type": "stream",
     "text": [
      "+-------+--------+\n",
      "|   rota|qtd_voos|\n",
      "+-------+--------+\n",
      "|LGA-ATL|    1563|\n",
      "|JFK-LAX|    1286|\n",
      "|LGA-ORD|    1188|\n",
      "+-------+--------+\n",
      "only showing top 3 rows\n",
      "\n"
     ]
    }
   ],
   "source": [
    "(\n",
    "    df.filter(col('arr_delay') > 30)\n",
    "    .groupBy('rota')\n",
    "    .agg(count('*').alias('qtd_voos'))\n",
    "    .orderBy('qtd_voos', ascending=False)\n",
    ").show(3)"
   ]
  },
  {
   "cell_type": "markdown",
   "metadata": {
    "id": "23R5DC6lFX0t"
   },
   "source": [
    "## 17. Para cada origem, qual o principal destino?"
   ]
  },
  {
   "cell_type": "code",
   "execution_count": null,
   "metadata": {
    "colab": {
     "base_uri": "https://localhost:8080/"
    },
    "id": "fXzeknRZFUHc",
    "outputId": "fe5d04b7-3a30-4662-cd77-51c270f0ce2b"
   },
   "outputs": [
    {
     "name": "stdout",
     "output_type": "stream",
     "text": [
      "+------+----+\n",
      "|origin|dest|\n",
      "+------+----+\n",
      "|   EWR| ORD|\n",
      "|   JFK| LAX|\n",
      "|   LGA| ATL|\n",
      "+------+----+\n",
      "\n"
     ]
    }
   ],
   "source": [
    "(\n",
    "    df.groupBy('origin', 'dest')\n",
    "    .agg(count('*').alias('qtd_voos'))\n",
    "    .withColumn(\n",
    "        'max_qtd_voos',\n",
    "        F.max('qtd_voos').over(Window.partitionBy('origin'))\n",
    "    )\n",
    "    .filter(col('qtd_voos') == col('max_qtd_voos'))\n",
    "    .select('origin', 'dest')\n",
    ").show()"
   ]
  },
  {
   "cell_type": "markdown",
   "metadata": {
    "id": "z61hE5Q_GJwP"
   },
   "source": [
    "# Enriquecimento dos dados"
   ]
  },
  {
   "cell_type": "code",
   "execution_count": null,
   "metadata": {
    "id": "uPUG83LrfdXJ"
   },
   "outputs": [],
   "source": [
    "import requests\n",
    "from datetime import timedelta"
   ]
  },
  {
   "cell_type": "code",
   "execution_count": null,
   "metadata": {
    "id": "ml-EbfWKGE4x"
   },
   "outputs": [],
   "source": [
    "airportdb_key = '9bdb5e6f5f603599c7083d38203f81ebf2f0178b59e611b85f55959fe54b90f8e543328b913212073e00b1498e0d8941'\n",
    "weatherbit_key = '746c0c74a5984b0390f851bac42819c3'"
   ]
  },
  {
   "cell_type": "code",
   "execution_count": null,
   "metadata": {
    "id": "s3Gm-NXpfTY7"
   },
   "outputs": [],
   "source": [
    "voos_atrasados = df.orderBy(col(\"arr_delay\").desc()).limit(5).collect()"
   ]
  },
  {
   "cell_type": "code",
   "execution_count": null,
   "metadata": {
    "id": "MAUPPtAHjLkX"
   },
   "outputs": [],
   "source": [
    "dict_voos = {}\n",
    "\n",
    "for voo in voos_atrasados:\n",
    "  dict_voos[voo['id']] = {\n",
    "      'aero_origem': voo['origin'],\n",
    "      'aero_dest': voo['dest'],\n",
    "      'datetime': voo['time_hour'],\n",
    "  }"
   ]
  },
  {
   "cell_type": "code",
   "execution_count": null,
   "metadata": {
    "id": "WCHDhJcLjHjC"
   },
   "outputs": [],
   "source": [
    "resultados_enriquecidos = {}\n",
    "\n",
    "for voo, infos in dict_voos.items():\n",
    "  lista_aeros = [('origem', infos['aero_origem']), ('destino', infos['aero_dest'])]\n",
    "  date = infos['datetime']\n",
    "\n",
    "  for tipo, airport_code in lista_aeros:\n",
    "    # Obtém dados de latitude e longitude da AirportDB API\n",
    "    url = f\"https://airportdb.io/api/v1/airport/K{airport_code}?apiToken={airportdb_key}\"\n",
    "    response = requests.get(url)\n",
    "    data = response.json()\n",
    "\n",
    "    try:\n",
    "      latitude = data['latitude_deg']\n",
    "      longitude = data['longitude_deg']\n",
    "    except:\n",
    "      latitude = 'Not found'\n",
    "      longitude = 'Not found'\n",
    "\n",
    "    # Obtém dados de velocidade do vento da Weatherbit API\n",
    "    start_date = date.strftime('%Y-%m-%d')\n",
    "    end_date = (date + timedelta(days=1)).strftime('%Y-%m-%d')\n",
    "\n",
    "    url = 'https://api.weatherbit.io/v2.0/history/daily'\n",
    "    params = {\n",
    "      'lat': latitude,\n",
    "      'lon': longitude,\n",
    "      'start_date': start_date,\n",
    "      'end_date': end_date,\n",
    "      'key': weatherbit_key,\n",
    "    }\n",
    "    headers = {\n",
    "      'Accept': 'application/json',\n",
    "    }\n",
    "    response = requests.get(url, params=params, headers=headers)\n",
    "    data = response.json()\n",
    "\n",
    "    try:\n",
    "      velocidade_vento = data['data'][0]['wind_spd']\n",
    "    except:\n",
    "      velocidade_vento = 'null'\n",
    "\n",
    "    # Alimenta o dicionário com dados enriquecidos\n",
    "    resultados_enriquecidos[str(voo)+'-'+tipo] = {\n",
    "        'aeroporto': airport_code,\n",
    "        'data': start_date,\n",
    "        'latitude': latitude,\n",
    "        'longitude': longitude,\n",
    "        'velocidade_vento': velocidade_vento\n",
    "    }"
   ]
  },
  {
   "cell_type": "code",
   "execution_count": null,
   "metadata": {
    "colab": {
     "base_uri": "https://localhost:8080/"
    },
    "id": "O99mjxs8qjcP",
    "outputId": "753f2792-b79f-4fe9-aeca-8b1cfcc2b651"
   },
   "outputs": [
    {
     "data": {
      "text/plain": [
       "{'7072-origem': {'aeroporto': 'JFK',\n",
       "  'data': '2013-01-09',\n",
       "  'latitude': 40.639801,\n",
       "  'longitude': -73.7789,\n",
       "  'velocidade_vento': 3.5},\n",
       " '7072-destino': {'aeroporto': 'HNL',\n",
       "  'data': '2013-01-09',\n",
       "  'latitude': 'Not found',\n",
       "  'longitude': 'Not found',\n",
       "  'velocidade_vento': 'null'},\n",
       " '235778-origem': {'aeroporto': 'JFK',\n",
       "  'data': '2013-06-15',\n",
       "  'latitude': 40.639801,\n",
       "  'longitude': -73.7789,\n",
       "  'velocidade_vento': 4.1},\n",
       " '235778-destino': {'aeroporto': 'CMH',\n",
       "  'data': '2013-06-15',\n",
       "  'latitude': 39.998001,\n",
       "  'longitude': -82.891899,\n",
       "  'velocidade_vento': 1.9},\n",
       " '8239-origem': {'aeroporto': 'EWR',\n",
       "  'data': '2013-01-10',\n",
       "  'latitude': 40.692501,\n",
       "  'longitude': -74.168701,\n",
       "  'velocidade_vento': 4.1},\n",
       " '8239-destino': {'aeroporto': 'ORD',\n",
       "  'data': '2013-01-10',\n",
       "  'latitude': 41.9786,\n",
       "  'longitude': -87.9048,\n",
       "  'velocidade_vento': 4.1},\n",
       " '327043-origem': {'aeroporto': 'JFK',\n",
       "  'data': '2013-09-20',\n",
       "  'latitude': 40.639801,\n",
       "  'longitude': -73.7789,\n",
       "  'velocidade_vento': 3.7},\n",
       " '327043-destino': {'aeroporto': 'SFO',\n",
       "  'data': '2013-09-20',\n",
       "  'latitude': 37.61899948120117,\n",
       "  'longitude': -122.375,\n",
       "  'velocidade_vento': 4.3},\n",
       " '270376-origem': {'aeroporto': 'JFK',\n",
       "  'data': '2013-07-22',\n",
       "  'latitude': 40.639801,\n",
       "  'longitude': -73.7789,\n",
       "  'velocidade_vento': 3.2},\n",
       " '270376-destino': {'aeroporto': 'CVG',\n",
       "  'data': '2013-07-22',\n",
       "  'latitude': 39.048801,\n",
       "  'longitude': -84.667801,\n",
       "  'velocidade_vento': 2.3}}"
      ]
     },
     "execution_count": 103,
     "metadata": {},
     "output_type": "execute_result"
    }
   ],
   "source": [
    "resultados_enriquecidos"
   ]
  },
  {
   "cell_type": "markdown",
   "metadata": {
    "id": "exqs9j5CrpuH"
   },
   "source": [
    "# Modelagem"
   ]
  },
  {
   "cell_type": "code",
   "execution_count": 1,
   "metadata": {
    "id": "vRZ6zBxBrrEX"
   },
   "outputs": [],
   "source": [
    "import pandas as pd\n",
    "from sklearn.model_selection import train_test_split\n",
    "from sklearn.ensemble import RandomForestRegressor\n",
    "from sklearn.metrics import mean_absolute_error, mean_squared_error, r2_score\n",
    "import joblib\n",
    "\n",
    "pd.set_option('display.max_columns', None)"
   ]
  },
  {
   "cell_type": "code",
   "execution_count": 2,
   "metadata": {
    "id": "ED1nDlDht_9G"
   },
   "outputs": [],
   "source": [
    "pd_df = pd.read_csv('airports-database.csv')"
   ]
  },
  {
   "cell_type": "code",
   "execution_count": 3,
   "metadata": {},
   "outputs": [
    {
     "data": {
      "text/html": [
       "<div>\n",
       "<style scoped>\n",
       "    .dataframe tbody tr th:only-of-type {\n",
       "        vertical-align: middle;\n",
       "    }\n",
       "\n",
       "    .dataframe tbody tr th {\n",
       "        vertical-align: top;\n",
       "    }\n",
       "\n",
       "    .dataframe thead th {\n",
       "        text-align: right;\n",
       "    }\n",
       "</style>\n",
       "<table border=\"1\" class=\"dataframe\">\n",
       "  <thead>\n",
       "    <tr style=\"text-align: right;\">\n",
       "      <th></th>\n",
       "      <th>id</th>\n",
       "      <th>year</th>\n",
       "      <th>month</th>\n",
       "      <th>day</th>\n",
       "      <th>dep_time</th>\n",
       "      <th>sched_dep_time</th>\n",
       "      <th>dep_delay</th>\n",
       "      <th>arr_time</th>\n",
       "      <th>sched_arr_time</th>\n",
       "      <th>arr_delay</th>\n",
       "      <th>carrier</th>\n",
       "      <th>flight</th>\n",
       "      <th>tailnum</th>\n",
       "      <th>origin</th>\n",
       "      <th>dest</th>\n",
       "      <th>air_time</th>\n",
       "      <th>distance</th>\n",
       "      <th>hour</th>\n",
       "      <th>minute</th>\n",
       "      <th>time_hour</th>\n",
       "      <th>name</th>\n",
       "    </tr>\n",
       "  </thead>\n",
       "  <tbody>\n",
       "    <tr>\n",
       "      <th>0</th>\n",
       "      <td>0</td>\n",
       "      <td>2013</td>\n",
       "      <td>1</td>\n",
       "      <td>1</td>\n",
       "      <td>517.0</td>\n",
       "      <td>515</td>\n",
       "      <td>2.0</td>\n",
       "      <td>830.0</td>\n",
       "      <td>819</td>\n",
       "      <td>11.0</td>\n",
       "      <td>UA</td>\n",
       "      <td>1545</td>\n",
       "      <td>N14228</td>\n",
       "      <td>EWR</td>\n",
       "      <td>IAH</td>\n",
       "      <td>227.0</td>\n",
       "      <td>1400</td>\n",
       "      <td>5</td>\n",
       "      <td>15</td>\n",
       "      <td>2013-01-01 05:00:00</td>\n",
       "      <td>United Air Lines Inc.</td>\n",
       "    </tr>\n",
       "    <tr>\n",
       "      <th>1</th>\n",
       "      <td>1</td>\n",
       "      <td>2013</td>\n",
       "      <td>1</td>\n",
       "      <td>1</td>\n",
       "      <td>533.0</td>\n",
       "      <td>529</td>\n",
       "      <td>4.0</td>\n",
       "      <td>850.0</td>\n",
       "      <td>830</td>\n",
       "      <td>20.0</td>\n",
       "      <td>UA</td>\n",
       "      <td>1714</td>\n",
       "      <td>N24211</td>\n",
       "      <td>LGA</td>\n",
       "      <td>IAH</td>\n",
       "      <td>227.0</td>\n",
       "      <td>1416</td>\n",
       "      <td>5</td>\n",
       "      <td>29</td>\n",
       "      <td>2013-01-01 05:00:00</td>\n",
       "      <td>United Air Lines Inc.</td>\n",
       "    </tr>\n",
       "  </tbody>\n",
       "</table>\n",
       "</div>"
      ],
      "text/plain": [
       "   id  year  month  day  dep_time  sched_dep_time  dep_delay  arr_time  \\\n",
       "0   0  2013      1    1     517.0             515        2.0     830.0   \n",
       "1   1  2013      1    1     533.0             529        4.0     850.0   \n",
       "\n",
       "   sched_arr_time  arr_delay carrier  flight tailnum origin dest  air_time  \\\n",
       "0             819       11.0      UA    1545  N14228    EWR  IAH     227.0   \n",
       "1             830       20.0      UA    1714  N24211    LGA  IAH     227.0   \n",
       "\n",
       "   distance  hour  minute            time_hour                   name  \n",
       "0      1400     5      15  2013-01-01 05:00:00  United Air Lines Inc.  \n",
       "1      1416     5      29  2013-01-01 05:00:00  United Air Lines Inc.  "
      ]
     },
     "execution_count": 3,
     "metadata": {},
     "output_type": "execute_result"
    }
   ],
   "source": [
    "pd_df.head(2)"
   ]
  },
  {
   "cell_type": "code",
   "execution_count": 4,
   "metadata": {},
   "outputs": [
    {
     "data": {
      "text/plain": [
       "id                  int64\n",
       "year                int64\n",
       "month               int64\n",
       "day                 int64\n",
       "dep_time          float64\n",
       "sched_dep_time      int64\n",
       "dep_delay         float64\n",
       "arr_time          float64\n",
       "sched_arr_time      int64\n",
       "arr_delay         float64\n",
       "carrier            object\n",
       "flight              int64\n",
       "tailnum            object\n",
       "origin             object\n",
       "dest               object\n",
       "air_time          float64\n",
       "distance            int64\n",
       "hour                int64\n",
       "minute              int64\n",
       "time_hour          object\n",
       "name               object\n",
       "dtype: object"
      ]
     },
     "execution_count": 4,
     "metadata": {},
     "output_type": "execute_result"
    }
   ],
   "source": [
    "pd_df.dtypes"
   ]
  },
  {
   "cell_type": "markdown",
   "metadata": {
    "id": "jglB6XfjvPUJ"
   },
   "source": [
    "## Seleção de variáveis"
   ]
  },
  {
   "cell_type": "code",
   "execution_count": 5,
   "metadata": {
    "id": "ZWic_dCwvN-6"
   },
   "outputs": [],
   "source": [
    "# Variáveis que provavelmente tem o maior impacto no atraso na chegada:\n",
    "sel_cols = [\n",
    "    'sched_dep_time',\n",
    "    'dep_delay',\n",
    "    'sched_arr_time',\n",
    "    'air_time',\n",
    "    'distance',\n",
    "    'hour'\n",
    "]"
   ]
  },
  {
   "cell_type": "markdown",
   "metadata": {
    "id": "vk6S3kDrvCTZ"
   },
   "source": [
    "## Separação X & y / Tratativa de nulos"
   ]
  },
  {
   "cell_type": "code",
   "execution_count": 6,
   "metadata": {
    "id": "2ppa6nYawoLh"
   },
   "outputs": [],
   "source": [
    "X = pd_df[sel_cols]\n",
    "y = pd_df['arr_delay']"
   ]
  },
  {
   "cell_type": "code",
   "execution_count": 7,
   "metadata": {
    "id": "upSqXIyOuIhQ"
   },
   "outputs": [],
   "source": [
    "X = X.fillna(X.median())\n",
    "y = y.fillna(0)"
   ]
  },
  {
   "cell_type": "markdown",
   "metadata": {
    "id": "xEk_KM0uxgYm"
   },
   "source": [
    "## Split treino e teste"
   ]
  },
  {
   "cell_type": "code",
   "execution_count": 8,
   "metadata": {
    "id": "vLbyZYktuJjV"
   },
   "outputs": [],
   "source": [
    "X_train, X_test, y_train, y_test = train_test_split(X, y, test_size=0.2, random_state=42)"
   ]
  },
  {
   "cell_type": "markdown",
   "metadata": {
    "id": "q-r0xQ5IxwLk"
   },
   "source": [
    "## Treinamento"
   ]
  },
  {
   "cell_type": "code",
   "execution_count": 9,
   "metadata": {
    "colab": {
     "base_uri": "https://localhost:8080/",
     "height": 80
    },
    "id": "iyiEoOa6xo2k",
    "outputId": "e66a2f61-556f-49c6-caf6-e4a2b767675c"
   },
   "outputs": [
    {
     "data": {
      "text/html": [
       "<style>#sk-container-id-1 {\n",
       "  /* Definition of color scheme common for light and dark mode */\n",
       "  --sklearn-color-text: black;\n",
       "  --sklearn-color-line: gray;\n",
       "  /* Definition of color scheme for unfitted estimators */\n",
       "  --sklearn-color-unfitted-level-0: #fff5e6;\n",
       "  --sklearn-color-unfitted-level-1: #f6e4d2;\n",
       "  --sklearn-color-unfitted-level-2: #ffe0b3;\n",
       "  --sklearn-color-unfitted-level-3: chocolate;\n",
       "  /* Definition of color scheme for fitted estimators */\n",
       "  --sklearn-color-fitted-level-0: #f0f8ff;\n",
       "  --sklearn-color-fitted-level-1: #d4ebff;\n",
       "  --sklearn-color-fitted-level-2: #b3dbfd;\n",
       "  --sklearn-color-fitted-level-3: cornflowerblue;\n",
       "\n",
       "  /* Specific color for light theme */\n",
       "  --sklearn-color-text-on-default-background: var(--sg-text-color, var(--theme-code-foreground, var(--jp-content-font-color1, black)));\n",
       "  --sklearn-color-background: var(--sg-background-color, var(--theme-background, var(--jp-layout-color0, white)));\n",
       "  --sklearn-color-border-box: var(--sg-text-color, var(--theme-code-foreground, var(--jp-content-font-color1, black)));\n",
       "  --sklearn-color-icon: #696969;\n",
       "\n",
       "  @media (prefers-color-scheme: dark) {\n",
       "    /* Redefinition of color scheme for dark theme */\n",
       "    --sklearn-color-text-on-default-background: var(--sg-text-color, var(--theme-code-foreground, var(--jp-content-font-color1, white)));\n",
       "    --sklearn-color-background: var(--sg-background-color, var(--theme-background, var(--jp-layout-color0, #111)));\n",
       "    --sklearn-color-border-box: var(--sg-text-color, var(--theme-code-foreground, var(--jp-content-font-color1, white)));\n",
       "    --sklearn-color-icon: #878787;\n",
       "  }\n",
       "}\n",
       "\n",
       "#sk-container-id-1 {\n",
       "  color: var(--sklearn-color-text);\n",
       "}\n",
       "\n",
       "#sk-container-id-1 pre {\n",
       "  padding: 0;\n",
       "}\n",
       "\n",
       "#sk-container-id-1 input.sk-hidden--visually {\n",
       "  border: 0;\n",
       "  clip: rect(1px 1px 1px 1px);\n",
       "  clip: rect(1px, 1px, 1px, 1px);\n",
       "  height: 1px;\n",
       "  margin: -1px;\n",
       "  overflow: hidden;\n",
       "  padding: 0;\n",
       "  position: absolute;\n",
       "  width: 1px;\n",
       "}\n",
       "\n",
       "#sk-container-id-1 div.sk-dashed-wrapped {\n",
       "  border: 1px dashed var(--sklearn-color-line);\n",
       "  margin: 0 0.4em 0.5em 0.4em;\n",
       "  box-sizing: border-box;\n",
       "  padding-bottom: 0.4em;\n",
       "  background-color: var(--sklearn-color-background);\n",
       "}\n",
       "\n",
       "#sk-container-id-1 div.sk-container {\n",
       "  /* jupyter's `normalize.less` sets `[hidden] { display: none; }`\n",
       "     but bootstrap.min.css set `[hidden] { display: none !important; }`\n",
       "     so we also need the `!important` here to be able to override the\n",
       "     default hidden behavior on the sphinx rendered scikit-learn.org.\n",
       "     See: https://github.com/scikit-learn/scikit-learn/issues/21755 */\n",
       "  display: inline-block !important;\n",
       "  position: relative;\n",
       "}\n",
       "\n",
       "#sk-container-id-1 div.sk-text-repr-fallback {\n",
       "  display: none;\n",
       "}\n",
       "\n",
       "div.sk-parallel-item,\n",
       "div.sk-serial,\n",
       "div.sk-item {\n",
       "  /* draw centered vertical line to link estimators */\n",
       "  background-image: linear-gradient(var(--sklearn-color-text-on-default-background), var(--sklearn-color-text-on-default-background));\n",
       "  background-size: 2px 100%;\n",
       "  background-repeat: no-repeat;\n",
       "  background-position: center center;\n",
       "}\n",
       "\n",
       "/* Parallel-specific style estimator block */\n",
       "\n",
       "#sk-container-id-1 div.sk-parallel-item::after {\n",
       "  content: \"\";\n",
       "  width: 100%;\n",
       "  border-bottom: 2px solid var(--sklearn-color-text-on-default-background);\n",
       "  flex-grow: 1;\n",
       "}\n",
       "\n",
       "#sk-container-id-1 div.sk-parallel {\n",
       "  display: flex;\n",
       "  align-items: stretch;\n",
       "  justify-content: center;\n",
       "  background-color: var(--sklearn-color-background);\n",
       "  position: relative;\n",
       "}\n",
       "\n",
       "#sk-container-id-1 div.sk-parallel-item {\n",
       "  display: flex;\n",
       "  flex-direction: column;\n",
       "}\n",
       "\n",
       "#sk-container-id-1 div.sk-parallel-item:first-child::after {\n",
       "  align-self: flex-end;\n",
       "  width: 50%;\n",
       "}\n",
       "\n",
       "#sk-container-id-1 div.sk-parallel-item:last-child::after {\n",
       "  align-self: flex-start;\n",
       "  width: 50%;\n",
       "}\n",
       "\n",
       "#sk-container-id-1 div.sk-parallel-item:only-child::after {\n",
       "  width: 0;\n",
       "}\n",
       "\n",
       "/* Serial-specific style estimator block */\n",
       "\n",
       "#sk-container-id-1 div.sk-serial {\n",
       "  display: flex;\n",
       "  flex-direction: column;\n",
       "  align-items: center;\n",
       "  background-color: var(--sklearn-color-background);\n",
       "  padding-right: 1em;\n",
       "  padding-left: 1em;\n",
       "}\n",
       "\n",
       "\n",
       "/* Toggleable style: style used for estimator/Pipeline/ColumnTransformer box that is\n",
       "clickable and can be expanded/collapsed.\n",
       "- Pipeline and ColumnTransformer use this feature and define the default style\n",
       "- Estimators will overwrite some part of the style using the `sk-estimator` class\n",
       "*/\n",
       "\n",
       "/* Pipeline and ColumnTransformer style (default) */\n",
       "\n",
       "#sk-container-id-1 div.sk-toggleable {\n",
       "  /* Default theme specific background. It is overwritten whether we have a\n",
       "  specific estimator or a Pipeline/ColumnTransformer */\n",
       "  background-color: var(--sklearn-color-background);\n",
       "}\n",
       "\n",
       "/* Toggleable label */\n",
       "#sk-container-id-1 label.sk-toggleable__label {\n",
       "  cursor: pointer;\n",
       "  display: block;\n",
       "  width: 100%;\n",
       "  margin-bottom: 0;\n",
       "  padding: 0.5em;\n",
       "  box-sizing: border-box;\n",
       "  text-align: center;\n",
       "}\n",
       "\n",
       "#sk-container-id-1 label.sk-toggleable__label-arrow:before {\n",
       "  /* Arrow on the left of the label */\n",
       "  content: \"▸\";\n",
       "  float: left;\n",
       "  margin-right: 0.25em;\n",
       "  color: var(--sklearn-color-icon);\n",
       "}\n",
       "\n",
       "#sk-container-id-1 label.sk-toggleable__label-arrow:hover:before {\n",
       "  color: var(--sklearn-color-text);\n",
       "}\n",
       "\n",
       "/* Toggleable content - dropdown */\n",
       "\n",
       "#sk-container-id-1 div.sk-toggleable__content {\n",
       "  max-height: 0;\n",
       "  max-width: 0;\n",
       "  overflow: hidden;\n",
       "  text-align: left;\n",
       "  /* unfitted */\n",
       "  background-color: var(--sklearn-color-unfitted-level-0);\n",
       "}\n",
       "\n",
       "#sk-container-id-1 div.sk-toggleable__content.fitted {\n",
       "  /* fitted */\n",
       "  background-color: var(--sklearn-color-fitted-level-0);\n",
       "}\n",
       "\n",
       "#sk-container-id-1 div.sk-toggleable__content pre {\n",
       "  margin: 0.2em;\n",
       "  border-radius: 0.25em;\n",
       "  color: var(--sklearn-color-text);\n",
       "  /* unfitted */\n",
       "  background-color: var(--sklearn-color-unfitted-level-0);\n",
       "}\n",
       "\n",
       "#sk-container-id-1 div.sk-toggleable__content.fitted pre {\n",
       "  /* unfitted */\n",
       "  background-color: var(--sklearn-color-fitted-level-0);\n",
       "}\n",
       "\n",
       "#sk-container-id-1 input.sk-toggleable__control:checked~div.sk-toggleable__content {\n",
       "  /* Expand drop-down */\n",
       "  max-height: 200px;\n",
       "  max-width: 100%;\n",
       "  overflow: auto;\n",
       "}\n",
       "\n",
       "#sk-container-id-1 input.sk-toggleable__control:checked~label.sk-toggleable__label-arrow:before {\n",
       "  content: \"▾\";\n",
       "}\n",
       "\n",
       "/* Pipeline/ColumnTransformer-specific style */\n",
       "\n",
       "#sk-container-id-1 div.sk-label input.sk-toggleable__control:checked~label.sk-toggleable__label {\n",
       "  color: var(--sklearn-color-text);\n",
       "  background-color: var(--sklearn-color-unfitted-level-2);\n",
       "}\n",
       "\n",
       "#sk-container-id-1 div.sk-label.fitted input.sk-toggleable__control:checked~label.sk-toggleable__label {\n",
       "  background-color: var(--sklearn-color-fitted-level-2);\n",
       "}\n",
       "\n",
       "/* Estimator-specific style */\n",
       "\n",
       "/* Colorize estimator box */\n",
       "#sk-container-id-1 div.sk-estimator input.sk-toggleable__control:checked~label.sk-toggleable__label {\n",
       "  /* unfitted */\n",
       "  background-color: var(--sklearn-color-unfitted-level-2);\n",
       "}\n",
       "\n",
       "#sk-container-id-1 div.sk-estimator.fitted input.sk-toggleable__control:checked~label.sk-toggleable__label {\n",
       "  /* fitted */\n",
       "  background-color: var(--sklearn-color-fitted-level-2);\n",
       "}\n",
       "\n",
       "#sk-container-id-1 div.sk-label label.sk-toggleable__label,\n",
       "#sk-container-id-1 div.sk-label label {\n",
       "  /* The background is the default theme color */\n",
       "  color: var(--sklearn-color-text-on-default-background);\n",
       "}\n",
       "\n",
       "/* On hover, darken the color of the background */\n",
       "#sk-container-id-1 div.sk-label:hover label.sk-toggleable__label {\n",
       "  color: var(--sklearn-color-text);\n",
       "  background-color: var(--sklearn-color-unfitted-level-2);\n",
       "}\n",
       "\n",
       "/* Label box, darken color on hover, fitted */\n",
       "#sk-container-id-1 div.sk-label.fitted:hover label.sk-toggleable__label.fitted {\n",
       "  color: var(--sklearn-color-text);\n",
       "  background-color: var(--sklearn-color-fitted-level-2);\n",
       "}\n",
       "\n",
       "/* Estimator label */\n",
       "\n",
       "#sk-container-id-1 div.sk-label label {\n",
       "  font-family: monospace;\n",
       "  font-weight: bold;\n",
       "  display: inline-block;\n",
       "  line-height: 1.2em;\n",
       "}\n",
       "\n",
       "#sk-container-id-1 div.sk-label-container {\n",
       "  text-align: center;\n",
       "}\n",
       "\n",
       "/* Estimator-specific */\n",
       "#sk-container-id-1 div.sk-estimator {\n",
       "  font-family: monospace;\n",
       "  border: 1px dotted var(--sklearn-color-border-box);\n",
       "  border-radius: 0.25em;\n",
       "  box-sizing: border-box;\n",
       "  margin-bottom: 0.5em;\n",
       "  /* unfitted */\n",
       "  background-color: var(--sklearn-color-unfitted-level-0);\n",
       "}\n",
       "\n",
       "#sk-container-id-1 div.sk-estimator.fitted {\n",
       "  /* fitted */\n",
       "  background-color: var(--sklearn-color-fitted-level-0);\n",
       "}\n",
       "\n",
       "/* on hover */\n",
       "#sk-container-id-1 div.sk-estimator:hover {\n",
       "  /* unfitted */\n",
       "  background-color: var(--sklearn-color-unfitted-level-2);\n",
       "}\n",
       "\n",
       "#sk-container-id-1 div.sk-estimator.fitted:hover {\n",
       "  /* fitted */\n",
       "  background-color: var(--sklearn-color-fitted-level-2);\n",
       "}\n",
       "\n",
       "/* Specification for estimator info (e.g. \"i\" and \"?\") */\n",
       "\n",
       "/* Common style for \"i\" and \"?\" */\n",
       "\n",
       ".sk-estimator-doc-link,\n",
       "a:link.sk-estimator-doc-link,\n",
       "a:visited.sk-estimator-doc-link {\n",
       "  float: right;\n",
       "  font-size: smaller;\n",
       "  line-height: 1em;\n",
       "  font-family: monospace;\n",
       "  background-color: var(--sklearn-color-background);\n",
       "  border-radius: 1em;\n",
       "  height: 1em;\n",
       "  width: 1em;\n",
       "  text-decoration: none !important;\n",
       "  margin-left: 1ex;\n",
       "  /* unfitted */\n",
       "  border: var(--sklearn-color-unfitted-level-1) 1pt solid;\n",
       "  color: var(--sklearn-color-unfitted-level-1);\n",
       "}\n",
       "\n",
       ".sk-estimator-doc-link.fitted,\n",
       "a:link.sk-estimator-doc-link.fitted,\n",
       "a:visited.sk-estimator-doc-link.fitted {\n",
       "  /* fitted */\n",
       "  border: var(--sklearn-color-fitted-level-1) 1pt solid;\n",
       "  color: var(--sklearn-color-fitted-level-1);\n",
       "}\n",
       "\n",
       "/* On hover */\n",
       "div.sk-estimator:hover .sk-estimator-doc-link:hover,\n",
       ".sk-estimator-doc-link:hover,\n",
       "div.sk-label-container:hover .sk-estimator-doc-link:hover,\n",
       ".sk-estimator-doc-link:hover {\n",
       "  /* unfitted */\n",
       "  background-color: var(--sklearn-color-unfitted-level-3);\n",
       "  color: var(--sklearn-color-background);\n",
       "  text-decoration: none;\n",
       "}\n",
       "\n",
       "div.sk-estimator.fitted:hover .sk-estimator-doc-link.fitted:hover,\n",
       ".sk-estimator-doc-link.fitted:hover,\n",
       "div.sk-label-container:hover .sk-estimator-doc-link.fitted:hover,\n",
       ".sk-estimator-doc-link.fitted:hover {\n",
       "  /* fitted */\n",
       "  background-color: var(--sklearn-color-fitted-level-3);\n",
       "  color: var(--sklearn-color-background);\n",
       "  text-decoration: none;\n",
       "}\n",
       "\n",
       "/* Span, style for the box shown on hovering the info icon */\n",
       ".sk-estimator-doc-link span {\n",
       "  display: none;\n",
       "  z-index: 9999;\n",
       "  position: relative;\n",
       "  font-weight: normal;\n",
       "  right: .2ex;\n",
       "  padding: .5ex;\n",
       "  margin: .5ex;\n",
       "  width: min-content;\n",
       "  min-width: 20ex;\n",
       "  max-width: 50ex;\n",
       "  color: var(--sklearn-color-text);\n",
       "  box-shadow: 2pt 2pt 4pt #999;\n",
       "  /* unfitted */\n",
       "  background: var(--sklearn-color-unfitted-level-0);\n",
       "  border: .5pt solid var(--sklearn-color-unfitted-level-3);\n",
       "}\n",
       "\n",
       ".sk-estimator-doc-link.fitted span {\n",
       "  /* fitted */\n",
       "  background: var(--sklearn-color-fitted-level-0);\n",
       "  border: var(--sklearn-color-fitted-level-3);\n",
       "}\n",
       "\n",
       ".sk-estimator-doc-link:hover span {\n",
       "  display: block;\n",
       "}\n",
       "\n",
       "/* \"?\"-specific style due to the `<a>` HTML tag */\n",
       "\n",
       "#sk-container-id-1 a.estimator_doc_link {\n",
       "  float: right;\n",
       "  font-size: 1rem;\n",
       "  line-height: 1em;\n",
       "  font-family: monospace;\n",
       "  background-color: var(--sklearn-color-background);\n",
       "  border-radius: 1rem;\n",
       "  height: 1rem;\n",
       "  width: 1rem;\n",
       "  text-decoration: none;\n",
       "  /* unfitted */\n",
       "  color: var(--sklearn-color-unfitted-level-1);\n",
       "  border: var(--sklearn-color-unfitted-level-1) 1pt solid;\n",
       "}\n",
       "\n",
       "#sk-container-id-1 a.estimator_doc_link.fitted {\n",
       "  /* fitted */\n",
       "  border: var(--sklearn-color-fitted-level-1) 1pt solid;\n",
       "  color: var(--sklearn-color-fitted-level-1);\n",
       "}\n",
       "\n",
       "/* On hover */\n",
       "#sk-container-id-1 a.estimator_doc_link:hover {\n",
       "  /* unfitted */\n",
       "  background-color: var(--sklearn-color-unfitted-level-3);\n",
       "  color: var(--sklearn-color-background);\n",
       "  text-decoration: none;\n",
       "}\n",
       "\n",
       "#sk-container-id-1 a.estimator_doc_link.fitted:hover {\n",
       "  /* fitted */\n",
       "  background-color: var(--sklearn-color-fitted-level-3);\n",
       "}\n",
       "</style><div id=\"sk-container-id-1\" class=\"sk-top-container\"><div class=\"sk-text-repr-fallback\"><pre>RandomForestRegressor(n_estimators=10, random_state=42)</pre><b>In a Jupyter environment, please rerun this cell to show the HTML representation or trust the notebook. <br />On GitHub, the HTML representation is unable to render, please try loading this page with nbviewer.org.</b></div><div class=\"sk-container\" hidden><div class=\"sk-item\"><div class=\"sk-estimator fitted sk-toggleable\"><input class=\"sk-toggleable__control sk-hidden--visually\" id=\"sk-estimator-id-1\" type=\"checkbox\" checked><label for=\"sk-estimator-id-1\" class=\"sk-toggleable__label fitted sk-toggleable__label-arrow fitted\">&nbsp;&nbsp;RandomForestRegressor<a class=\"sk-estimator-doc-link fitted\" rel=\"noreferrer\" target=\"_blank\" href=\"https://scikit-learn.org/1.5/modules/generated/sklearn.ensemble.RandomForestRegressor.html\">?<span>Documentation for RandomForestRegressor</span></a><span class=\"sk-estimator-doc-link fitted\">i<span>Fitted</span></span></label><div class=\"sk-toggleable__content fitted\"><pre>RandomForestRegressor(n_estimators=10, random_state=42)</pre></div> </div></div></div></div>"
      ],
      "text/plain": [
       "RandomForestRegressor(n_estimators=10, random_state=42)"
      ]
     },
     "execution_count": 9,
     "metadata": {},
     "output_type": "execute_result"
    }
   ],
   "source": [
    "model = RandomForestRegressor(n_estimators=10, random_state=42)\n",
    "model.fit(X_train, y_train)"
   ]
  },
  {
   "cell_type": "markdown",
   "metadata": {
    "id": "JPj4FsdEyI3A"
   },
   "source": [
    "## Avaliação do modelo"
   ]
  },
  {
   "cell_type": "code",
   "execution_count": 10,
   "metadata": {
    "id": "I2HIFJoux1tr"
   },
   "outputs": [],
   "source": [
    "y_pred = model.predict(X_test)"
   ]
  },
  {
   "cell_type": "code",
   "execution_count": 11,
   "metadata": {
    "colab": {
     "base_uri": "https://localhost:8080/"
    },
    "id": "hJ0ue7EUyXFD",
    "outputId": "14774bbd-faaf-44e2-e2c1-828cf71d94ab"
   },
   "outputs": [
    {
     "name": "stdout",
     "output_type": "stream",
     "text": [
      "Métricas do modelo:\n",
      "Mean Absolute Error (MAE): 10.977757241475953\n",
      "Mean Squared Error (MSE): 259.7905467723191\n",
      "Root Mean Squared Error (RMSE): 16.118019319144615\n",
      "R2 Score: 0.8638915012732711\n"
     ]
    }
   ],
   "source": [
    "# Métricas\n",
    "mae = mean_absolute_error(y_test, y_pred)\n",
    "mse = mean_squared_error(y_test, y_pred)\n",
    "rmse = mse**0.5\n",
    "r2 = r2_score(y_test, y_pred)\n",
    "\n",
    "print(\"Métricas do modelo:\")\n",
    "print(f\"Mean Absolute Error (MAE): {mae}\")\n",
    "print(f\"Mean Squared Error (MSE): {mse}\")\n",
    "print(f\"Root Mean Squared Error (RMSE): {rmse}\")\n",
    "print(f\"R2 Score: {r2}\")"
   ]
  },
  {
   "cell_type": "markdown",
   "metadata": {
    "id": "umI_lwKRy2sB"
   },
   "source": [
    "### MAE: Mean Absolute Error\n",
    "- Definição: O MAE mede a média das diferenças absolutas entre os valores reais e os valores previstos. Ele indica o erro médio sem considerar a direção do erro (positivo ou negativo).\n",
    "- Interpretação: O MAE é simples de entender e oferece uma média dos erros absolutos. Quanto menor o MAE, melhor o modelo, já que ele indica uma previsão mais próxima dos valores reais.\n",
    "\n",
    "### MSE: Mean Squared Error\n",
    "- Definição: O MSE mede a média dos quadrados das diferenças entre os valores reais e os valores previstos. Ele penaliza erros maiores de forma mais severa, pois os erros são elevados ao quadrado.\n",
    "- Interpretação: O MSE penaliza mais os erros grandes (como desvios maiores entre o valor real e o previsto), o que pode ser útil se for importante evitar grandes erros. No entanto, ele é sensível a outliers devido ao termo ao quadrado.\n",
    "\n",
    "### RMSE: Root Mean Squared Error\n",
    "- Definição: O RMSE é simplesmente a raiz quadrada do MSE. Ele também penaliza mais os erros grandes, mas o resultado é trazido para a mesma unidade da variável de interesse.\n",
    "- Interpretação: O RMSE é mais interpretável do que o MSE, pois suas unidades são as mesmas dos dados originais. Ele é útil quando você deseja medir o erro em unidades reais. Como o MSE, o RMSE também é sensível a outliers.\n",
    "\n",
    "### R² (R-Squared ou Coeficiente de Determinação)\n",
    "- Definição: O R² mede a proporção da variabilidade dos dados que é explicada pelo modelo. Ele compara o desempenho do modelo com a média dos valores reais e indica o quão bem o modelo se ajusta aos dados. O R² pode variar de 0 a 1.\n",
    "- Interpretação: Um R² próximo de 1 indica que o modelo explica uma grande parte da variação nos dados."
   ]
  },
  {
   "cell_type": "markdown",
   "metadata": {
    "id": "t0DuN-yQyff4"
   },
   "source": [
    "## Salvar modelo treinado"
   ]
  },
  {
   "cell_type": "code",
   "execution_count": 12,
   "metadata": {
    "id": "e7V7Gtywydyy"
   },
   "outputs": [
    {
     "data": {
      "text/plain": [
       "['modelo_voos_atraso.pkl']"
      ]
     },
     "execution_count": 12,
     "metadata": {},
     "output_type": "execute_result"
    }
   ],
   "source": [
    "joblib.dump(model, 'modelo_voos_atraso.pkl')"
   ]
  }
 ],
 "metadata": {
  "colab": {
   "provenance": []
  },
  "kernelspec": {
   "display_name": "Python 3 (ipykernel)",
   "language": "python",
   "name": "python3"
  },
  "language_info": {
   "codemirror_mode": {
    "name": "ipython",
    "version": 3
   },
   "file_extension": ".py",
   "mimetype": "text/x-python",
   "name": "python",
   "nbconvert_exporter": "python",
   "pygments_lexer": "ipython3",
   "version": "3.12.3"
  }
 },
 "nbformat": 4,
 "nbformat_minor": 4
}
